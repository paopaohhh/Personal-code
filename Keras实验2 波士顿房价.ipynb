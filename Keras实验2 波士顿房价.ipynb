{
 "cells": [
  {
   "cell_type": "code",
   "execution_count": 1,
   "id": "79167524",
   "metadata": {},
   "outputs": [],
   "source": [
    "from keras.datasets import boston_housing\n",
    "(train, train_target), (test, test_target) = boston_housing.load_data()"
   ]
  },
  {
   "cell_type": "code",
   "execution_count": 2,
   "id": "9fc39c0e",
   "metadata": {},
   "outputs": [],
   "source": [
    "#将房价数据打乱重新组合\n",
    "len1 = train.shape[0]\n",
    "len2 = test.shape[0]\n",
    "import numpy as np\n",
    "x=np.concatenate([train, test])\n",
    "y=np.concatenate([train_target, test_target])\n",
    "index = [i for i in range(x.shape[0])]\n",
    "np.random.shuffle(index)\n",
    "index1 = index[:len1]\n",
    "index2 = index[len1:]\n",
    "train = x[index1]\n",
    "train_target = y[index1]\n",
    "test = x[index2]\n",
    "test_target = y[index2]\n",
    "\n",
    "train -= train.mean(axis = 0)\n",
    "train /= train.std(axis = 0)\n",
    "test -= test.mean(axis = 0)\n",
    "test /= test.std(axis = 0)"
   ]
  },
  {
   "cell_type": "code",
   "execution_count": 3,
   "id": "6cb6addf",
   "metadata": {},
   "outputs": [],
   "source": [
    "from keras import models\n",
    "from keras import layers\n",
    "\n",
    "network = models.Sequential()\n",
    "network.add(layers.Dense(64, activation='relu', \n",
    "                         input_shape = (train.shape[1],)))\n",
    "network.add(layers.Dense(64, activation='relu'))\n",
    "network.add(layers.Dense(1))"
   ]
  },
  {
   "cell_type": "code",
   "execution_count": 4,
   "id": "5bad62a2",
   "metadata": {},
   "outputs": [],
   "source": [
    "network.compile(loss='mse', optimizer='sgd', \n",
    "                metrics=['mae'])"
   ]
  },
  {
   "cell_type": "code",
   "execution_count": 5,
   "id": "2b644796",
   "metadata": {},
   "outputs": [
    {
     "name": "stdout",
     "output_type": "stream",
     "text": [
      "Epoch 1/15\n",
      "27/27 [==============================] - 1s 2ms/step - loss: 350.4188 - mae: 15.6967\n",
      "Epoch 2/15\n",
      "27/27 [==============================] - 0s 2ms/step - loss: 167.7158 - mae: 9.8951\n",
      "Epoch 3/15\n",
      "27/27 [==============================] - 0s 2ms/step - loss: 61.8310 - mae: 5.3623\n",
      "Epoch 4/15\n",
      "27/27 [==============================] - 0s 2ms/step - loss: 50.6775 - mae: 4.5722\n",
      "Epoch 5/15\n",
      "27/27 [==============================] - 0s 2ms/step - loss: 31.4104 - mae: 3.7404\n",
      "Epoch 6/15\n",
      "27/27 [==============================] - 0s 2ms/step - loss: 55.9522 - mae: 4.9113\n",
      "Epoch 7/15\n",
      "27/27 [==============================] - 0s 2ms/step - loss: 19.1901 - mae: 3.0388\n",
      "Epoch 8/15\n",
      "27/27 [==============================] - 0s 2ms/step - loss: 25.2367 - mae: 3.2318\n",
      "Epoch 9/15\n",
      "27/27 [==============================] - 0s 2ms/step - loss: 13.7400 - mae: 2.5212\n",
      "Epoch 10/15\n",
      "27/27 [==============================] - 0s 2ms/step - loss: 17.0707 - mae: 2.7592\n",
      "Epoch 11/15\n",
      "27/27 [==============================] - 0s 2ms/step - loss: 14.6733 - mae: 2.6365\n",
      "Epoch 12/15\n",
      "27/27 [==============================] - 0s 2ms/step - loss: 11.2229 - mae: 2.4245\n",
      "Epoch 13/15\n",
      "27/27 [==============================] - 0s 2ms/step - loss: 8.9273 - mae: 2.0885\n",
      "Epoch 14/15\n",
      "27/27 [==============================] - 0s 2ms/step - loss: 7.5478 - mae: 1.9763\n",
      "Epoch 15/15\n",
      "27/27 [==============================] - 0s 2ms/step - loss: 7.3409 - mae: 1.9830\n"
     ]
    },
    {
     "data": {
      "text/plain": [
       "<keras.callbacks.History at 0x1f9d1c061f0>"
      ]
     },
     "execution_count": 5,
     "metadata": {},
     "output_type": "execute_result"
    }
   ],
   "source": [
    "network.fit(train, train_target, batch_size=15, epochs=15)"
   ]
  },
  {
   "cell_type": "code",
   "execution_count": 6,
   "id": "f376d2b9",
   "metadata": {},
   "outputs": [
    {
     "name": "stdout",
     "output_type": "stream",
     "text": [
      "4/4 [==============================] - 0s 2ms/step - loss: 10.1767 - mae: 2.3255\n"
     ]
    },
    {
     "data": {
      "text/plain": [
       "[10.176729202270508, 2.3254919052124023]"
      ]
     },
     "execution_count": 6,
     "metadata": {},
     "output_type": "execute_result"
    }
   ],
   "source": [
    "network.evaluate(test, test_target)"
   ]
  },
  {
   "cell_type": "code",
   "execution_count": 7,
   "id": "ffdef63e",
   "metadata": {},
   "outputs": [
    {
     "data": {
      "text/plain": [
       "22.578465346534657"
      ]
     },
     "execution_count": 7,
     "metadata": {},
     "output_type": "execute_result"
    }
   ],
   "source": [
    "train_target.mean(axis=0)"
   ]
  },
  {
   "cell_type": "code",
   "execution_count": null,
   "id": "3f0713b1",
   "metadata": {},
   "outputs": [],
   "source": []
  }
 ],
 "metadata": {
  "kernelspec": {
   "display_name": "Python 3 (ipykernel)",
   "language": "python",
   "name": "python3"
  },
  "language_info": {
   "codemirror_mode": {
    "name": "ipython",
    "version": 3
   },
   "file_extension": ".py",
   "mimetype": "text/x-python",
   "name": "python",
   "nbconvert_exporter": "python",
   "pygments_lexer": "ipython3",
   "version": "3.9.7"
  },
  "toc": {
   "base_numbering": 1,
   "nav_menu": {},
   "number_sections": true,
   "sideBar": true,
   "skip_h1_title": false,
   "title_cell": "Table of Contents",
   "title_sidebar": "Contents",
   "toc_cell": false,
   "toc_position": {},
   "toc_section_display": true,
   "toc_window_display": false
  }
 },
 "nbformat": 4,
 "nbformat_minor": 5
}
