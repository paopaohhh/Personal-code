{
 "cells": [
  {
   "cell_type": "code",
   "execution_count": 1,
   "id": "85f6e638",
   "metadata": {},
   "outputs": [],
   "source": [
    "import torch\n",
    "from torch.utils.data import Dataset\n",
    "import os\n",
    "from PIL import Image\n",
    "\n",
    "class Mydata(Dataset):\n",
    "    def __init__(self, parentdir, datadir, labeldir):\n",
    "        self.parentdir = parentdir\n",
    "        self.datadir = datadir\n",
    "        self.datapath = os.path.join(self.parentdir, self.datadira)\n",
    "        self.filepath = os.listdir(self.datapath)\n",
    "        \n",
    "        self.labeldir = labeldir\n",
    "        self.labeldatapath = os.path.join(self.parentdir, self.labeldir)\n",
    "        self.labellistpath = os.listdir(self.labeldatapath)\n",
    "    \n",
    "    def __getitem__(self, idx):\n",
    "        file_dir = os.path.join(datapath, filepath[idx])\n",
    "        img = Image.open(file_dir)\n",
    "        \n",
    "        label_dir = os.path.join(self.labeldatapath, labellistpath[idx])\n",
    "        with open(label_dir) as fb:\n",
    "            label = fb.read()\n",
    "        \n",
    "        return img, label"
   ]
  },
  {
   "cell_type": "code",
   "execution_count": null,
   "id": "7b30203a",
   "metadata": {},
   "outputs": [],
   "source": []
  }
 ],
 "metadata": {
  "kernelspec": {
   "display_name": "Python 3 (ipykernel)",
   "language": "python",
   "name": "python3"
  },
  "language_info": {
   "codemirror_mode": {
    "name": "ipython",
    "version": 3
   },
   "file_extension": ".py",
   "mimetype": "text/x-python",
   "name": "python",
   "nbconvert_exporter": "python",
   "pygments_lexer": "ipython3",
   "version": "3.9.9"
  },
  "toc": {
   "base_numbering": 1,
   "nav_menu": {},
   "number_sections": true,
   "sideBar": true,
   "skip_h1_title": false,
   "title_cell": "Table of Contents",
   "title_sidebar": "Contents",
   "toc_cell": false,
   "toc_position": {},
   "toc_section_display": true,
   "toc_window_display": false
  }
 },
 "nbformat": 4,
 "nbformat_minor": 5
}
