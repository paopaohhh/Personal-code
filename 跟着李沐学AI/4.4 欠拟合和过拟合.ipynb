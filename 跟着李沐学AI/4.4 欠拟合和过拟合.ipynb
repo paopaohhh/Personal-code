{
 "cells": [
  {
   "cell_type": "code",
   "execution_count": 1,
   "id": "4e386521-6ba6-44c3-ba82-815fcfcf8dac",
   "metadata": {},
   "outputs": [],
   "source": [
    "import math\n",
    "import numpy as np\n",
    "import torch\n",
    "from torch import nn\n",
    "from d2l import torch as d2l"
   ]
  },
  {
   "cell_type": "code",
   "execution_count": 2,
   "id": "c7389838-bb41-4bb9-8971-cea2b2316c0c",
   "metadata": {},
   "outputs": [],
   "source": [
    "max_degree = 20 # 多项式的最大阶数\n",
    "n_train, n_test = 100, 100 #训练集和验证集数量都是100个\n",
    "true_w = np.zeros(max_degree) #分配大量的空间\n",
    "true_w[0:4] = np.array([5,1.2,-3.4, 5.6])\n",
    "features = np.random.normal(size=(n_train + n_test, 1))\n",
    "np.random.shuffle(features)"
   ]
  },
  {
   "cell_type": "code",
   "execution_count": 3,
   "id": "cd6f1cd4-1931-4dd8-a561-cc32a7f716a7",
   "metadata": {},
   "outputs": [],
   "source": [
    "poly_features = np.power(features, np.arange(max_degree).reshape(1, -1))\n",
    "'''这里数组features每个元素都会分别求0-19次方，单个元素求次方形成一个数组，\n",
    "再把数组组合起来形成poly_features'''\n",
    "for i in range(max_degree):\n",
    "    poly_features[:, i] /= math.gamma(i + 1)  # `gamma(n)` = (n-1)!\n",
    "# `labels`的维度: (`n_train` + `n_test`,)\n",
    "labels = np.dot(poly_features, true_w)\n",
    "labels += np.random.normal(scale=0.1, size=labels.shape)\n"
   ]
  },
  {
   "cell_type": "code",
   "execution_count": 4,
   "id": "8500b65a",
   "metadata": {},
   "outputs": [
    {
     "data": {
      "text/plain": [
       "(tensor([[-0.3762],\n",
       "         [-0.0535]]),\n",
       " tensor([[ 1.0000e+00, -3.7622e-01,  7.0771e-02, -8.8752e-03,  8.3476e-04,\n",
       "          -6.2811e-05,  3.9385e-06, -2.1168e-07,  9.9546e-09, -4.1613e-10,\n",
       "           1.5656e-11, -5.3545e-13,  1.6787e-14, -4.8583e-16,  1.3056e-17,\n",
       "          -3.2745e-19,  7.6997e-21, -1.7040e-22,  3.5615e-24, -7.0522e-26],\n",
       "         [ 1.0000e+00, -5.3478e-02,  1.4299e-03, -2.5490e-05,  3.4078e-07,\n",
       "          -3.6448e-09,  3.2486e-11, -2.4818e-13,  1.6590e-15, -9.8579e-18,\n",
       "           5.2718e-20, -2.5629e-22,  1.1422e-24, -4.6985e-27,  1.7947e-29,\n",
       "          -6.3986e-32,  2.1386e-34, -6.7276e-37,  1.9987e-39, -5.6262e-42]]),\n",
       " tensor([4.1678, 4.8556]))"
      ]
     },
     "execution_count": 4,
     "metadata": {},
     "output_type": "execute_result"
    }
   ],
   "source": [
    "true_w, features, poly_features, labels \n",
    "= [torch.tensor(x, dtype=d2l.float32) \n",
    "   for x in [true_w, features, poly_features, labels]]\n",
    "\n",
    "features[:2], poly_features[:2, :], labels[:2]"
   ]
  },
  {
   "cell_type": "code",
   "execution_count": 5,
   "id": "a6c75f08",
   "metadata": {},
   "outputs": [],
   "source": [
    "def evaluate_loss(net, data_iter, loss):\n",
    "    '''评估给数据集上模型的损失'''\n",
    "    metric = d2l.Accumulator(2)  #损失总和和损失样本量\n",
    "    for X, y in data_iter:\n",
    "        out = net(X)\n",
    "        y=y.reshape(out.shape)\n",
    "        l=loss(out,y)\n",
    "        metric.add(l.sum(), l.numel())\n",
    "    return metric[0] / metric[1]"
   ]
  },
  {
   "cell_type": "code",
   "execution_count": 6,
   "id": "cf88591f-1db1-4fb1-960c-c27dcc3ff044",
   "metadata": {},
   "outputs": [],
   "source": [
    "def train(train_features, test_features, train_labels, test_labels, \n",
    "          num_epochs=400):\n",
    "    loss = nn.MSELoss()\n",
    "    input_shape = train_features.shape[-1]\n",
    "    #不设置偏置，因为我们已经在多项式特种中实现了它\n",
    "    net = nn.Sequential(nn.Linear(input_shape, 1, bias=False))\n",
    "    batch_size = min(10, train_labels.shape[0])\n",
    "    train_iter = d2l.load_array((train_features, train_labels.reshape(1,-1)),\n",
    "                                batch_size)\n",
    "    test_iter = d2l.load_array((test_features, test_labels.reshape(1,-1)), \n",
    "                               batch_size, is_train=False)\n",
    "    trainer = torch.optim.SGD(net.parameters(), lr=0.01)\n",
    "    animator = d2l.Accumulator(xlabel = 'epoch', ylabel = 'loss', \n",
    "                               yscale='log', xlim=[1, num_epochs], \n",
    "                               ylim=[1e-3, 1e2]\n",
    "                              ,legend=['train', 'test'])\n",
    "    for epoch in range(num_epochs):\n",
    "        d2l.train_epoch_ch3(net, train_iter, loss, trainer)\n",
    "        if epoch == 0 or (rpoch+1) % 20==0:\n",
    "            animator.add(epoch+1, (evaluate_loss(net, trian_iter, loss),\n",
    "                                  evaluate_loss(net, test_iter, loss)))\n",
    "    print('weight:', net[0].weight.data.numpy())"
   ]
  },
  {
   "cell_type": "code",
   "execution_count": 7,
   "id": "462a3e92",
   "metadata": {},
   "outputs": [
    {
     "ename": "AssertionError",
     "evalue": "Size mismatch between tensors",
     "output_type": "error",
     "traceback": [
      "\u001b[1;31m---------------------------------------------------------------------------\u001b[0m",
      "\u001b[1;31mAssertionError\u001b[0m                            Traceback (most recent call last)",
      "\u001b[1;32m~\\AppData\\Local\\Temp/ipykernel_5088/23175835.py\u001b[0m in \u001b[0;36m<module>\u001b[1;34m\u001b[0m\n\u001b[0;32m      1\u001b[0m \u001b[1;31m# 从多项式特征中选择前4个维度，即 1, x, x^2/2!, x^3/3!\u001b[0m\u001b[1;33m\u001b[0m\u001b[1;33m\u001b[0m\u001b[0m\n\u001b[1;32m----> 2\u001b[1;33m train(poly_features[:n_train, :4], poly_features[n_train:, :4],\n\u001b[0m\u001b[0;32m      3\u001b[0m       labels[:n_train], labels[n_train:])\n\u001b[0;32m      4\u001b[0m \u001b[1;31m# 从多项式特征中选择前2个维度，即 1, x\u001b[0m\u001b[1;33m\u001b[0m\u001b[1;33m\u001b[0m\u001b[0m\n\u001b[0;32m      5\u001b[0m train(poly_features[:n_train, :2], poly_features[n_train:, :2],\n",
      "\u001b[1;32m~\\AppData\\Local\\Temp/ipykernel_5088/88803482.py\u001b[0m in \u001b[0;36mtrain\u001b[1;34m(train_features, test_features, train_labels, test_labels, num_epochs)\u001b[0m\n\u001b[0;32m      5\u001b[0m     \u001b[0mnet\u001b[0m \u001b[1;33m=\u001b[0m \u001b[0mnn\u001b[0m\u001b[1;33m.\u001b[0m\u001b[0mSequential\u001b[0m\u001b[1;33m(\u001b[0m\u001b[0mnn\u001b[0m\u001b[1;33m.\u001b[0m\u001b[0mLinear\u001b[0m\u001b[1;33m(\u001b[0m\u001b[0minput_shape\u001b[0m\u001b[1;33m,\u001b[0m \u001b[1;36m1\u001b[0m\u001b[1;33m,\u001b[0m \u001b[0mbias\u001b[0m\u001b[1;33m=\u001b[0m\u001b[1;32mFalse\u001b[0m\u001b[1;33m)\u001b[0m\u001b[1;33m)\u001b[0m\u001b[1;33m\u001b[0m\u001b[1;33m\u001b[0m\u001b[0m\n\u001b[0;32m      6\u001b[0m     \u001b[0mbatch_size\u001b[0m \u001b[1;33m=\u001b[0m \u001b[0mmin\u001b[0m\u001b[1;33m(\u001b[0m\u001b[1;36m10\u001b[0m\u001b[1;33m,\u001b[0m \u001b[0mtrain_labels\u001b[0m\u001b[1;33m.\u001b[0m\u001b[0mshape\u001b[0m\u001b[1;33m[\u001b[0m\u001b[1;36m0\u001b[0m\u001b[1;33m]\u001b[0m\u001b[1;33m)\u001b[0m\u001b[1;33m\u001b[0m\u001b[1;33m\u001b[0m\u001b[0m\n\u001b[1;32m----> 7\u001b[1;33m     train_iter = d2l.load_array((train_features, train_labels.reshape(1,-1)),\n\u001b[0m\u001b[0;32m      8\u001b[0m                                 batch_size)\n\u001b[0;32m      9\u001b[0m     test_iter = d2l.load_array((test_features, test_labels.reshape(1,-1)), \n",
      "\u001b[1;32mD:\\Python\\lib\\site-packages\\d2l\\torch.py\u001b[0m in \u001b[0;36mload_array\u001b[1;34m(data_arrays, batch_size, is_train)\u001b[0m\n\u001b[0;32m    158\u001b[0m \u001b[1;32mdef\u001b[0m \u001b[0mload_array\u001b[0m\u001b[1;33m(\u001b[0m\u001b[0mdata_arrays\u001b[0m\u001b[1;33m,\u001b[0m \u001b[0mbatch_size\u001b[0m\u001b[1;33m,\u001b[0m \u001b[0mis_train\u001b[0m\u001b[1;33m=\u001b[0m\u001b[1;32mTrue\u001b[0m\u001b[1;33m)\u001b[0m\u001b[1;33m:\u001b[0m\u001b[1;33m\u001b[0m\u001b[1;33m\u001b[0m\u001b[0m\n\u001b[0;32m    159\u001b[0m     \u001b[1;34m\"\"\"Construct a PyTorch data iterator.\"\"\"\u001b[0m\u001b[1;33m\u001b[0m\u001b[1;33m\u001b[0m\u001b[0m\n\u001b[1;32m--> 160\u001b[1;33m     \u001b[0mdataset\u001b[0m \u001b[1;33m=\u001b[0m \u001b[0mdata\u001b[0m\u001b[1;33m.\u001b[0m\u001b[0mTensorDataset\u001b[0m\u001b[1;33m(\u001b[0m\u001b[1;33m*\u001b[0m\u001b[0mdata_arrays\u001b[0m\u001b[1;33m)\u001b[0m\u001b[1;33m\u001b[0m\u001b[1;33m\u001b[0m\u001b[0m\n\u001b[0m\u001b[0;32m    161\u001b[0m     \u001b[1;32mreturn\u001b[0m \u001b[0mdata\u001b[0m\u001b[1;33m.\u001b[0m\u001b[0mDataLoader\u001b[0m\u001b[1;33m(\u001b[0m\u001b[0mdataset\u001b[0m\u001b[1;33m,\u001b[0m \u001b[0mbatch_size\u001b[0m\u001b[1;33m,\u001b[0m \u001b[0mshuffle\u001b[0m\u001b[1;33m=\u001b[0m\u001b[0mis_train\u001b[0m\u001b[1;33m)\u001b[0m\u001b[1;33m\u001b[0m\u001b[1;33m\u001b[0m\u001b[0m\n\u001b[0;32m    162\u001b[0m \u001b[1;33m\u001b[0m\u001b[0m\n",
      "\u001b[1;32mD:\\Python\\lib\\site-packages\\torch\\utils\\data\\dataset.py\u001b[0m in \u001b[0;36m__init__\u001b[1;34m(self, *tensors)\u001b[0m\n\u001b[0;32m    203\u001b[0m \u001b[1;33m\u001b[0m\u001b[0m\n\u001b[0;32m    204\u001b[0m     \u001b[1;32mdef\u001b[0m \u001b[0m__init__\u001b[0m\u001b[1;33m(\u001b[0m\u001b[0mself\u001b[0m\u001b[1;33m,\u001b[0m \u001b[1;33m*\u001b[0m\u001b[0mtensors\u001b[0m\u001b[1;33m:\u001b[0m \u001b[0mTensor\u001b[0m\u001b[1;33m)\u001b[0m \u001b[1;33m->\u001b[0m \u001b[1;32mNone\u001b[0m\u001b[1;33m:\u001b[0m\u001b[1;33m\u001b[0m\u001b[1;33m\u001b[0m\u001b[0m\n\u001b[1;32m--> 205\u001b[1;33m         \u001b[1;32massert\u001b[0m \u001b[0mall\u001b[0m\u001b[1;33m(\u001b[0m\u001b[0mtensors\u001b[0m\u001b[1;33m[\u001b[0m\u001b[1;36m0\u001b[0m\u001b[1;33m]\u001b[0m\u001b[1;33m.\u001b[0m\u001b[0msize\u001b[0m\u001b[1;33m(\u001b[0m\u001b[1;36m0\u001b[0m\u001b[1;33m)\u001b[0m \u001b[1;33m==\u001b[0m \u001b[0mtensor\u001b[0m\u001b[1;33m.\u001b[0m\u001b[0msize\u001b[0m\u001b[1;33m(\u001b[0m\u001b[1;36m0\u001b[0m\u001b[1;33m)\u001b[0m \u001b[1;32mfor\u001b[0m \u001b[0mtensor\u001b[0m \u001b[1;32min\u001b[0m \u001b[0mtensors\u001b[0m\u001b[1;33m)\u001b[0m\u001b[1;33m,\u001b[0m \u001b[1;34m\"Size mismatch between tensors\"\u001b[0m\u001b[1;33m\u001b[0m\u001b[1;33m\u001b[0m\u001b[0m\n\u001b[0m\u001b[0;32m    206\u001b[0m         \u001b[0mself\u001b[0m\u001b[1;33m.\u001b[0m\u001b[0mtensors\u001b[0m \u001b[1;33m=\u001b[0m \u001b[0mtensors\u001b[0m\u001b[1;33m\u001b[0m\u001b[1;33m\u001b[0m\u001b[0m\n\u001b[0;32m    207\u001b[0m \u001b[1;33m\u001b[0m\u001b[0m\n",
      "\u001b[1;31mAssertionError\u001b[0m: Size mismatch between tensors"
     ]
    }
   ],
   "source": [
    "# 从多项式特征中选择前4个维度，即 1, x, x^2/2!, x^3/3!\n",
    "train(poly_features[:n_train, :4], poly_features[n_train:, :4],\n",
    "      labels[:n_train], labels[n_train:])\n",
    "# 从多项式特征中选择前2个维度，即 1, x\n",
    "train(poly_features[:n_train, :2], poly_features[n_train:, :2],\n",
    "      labels[:n_train], labels[n_train:])\n",
    "# 从多项式特征中选取所有维度\n",
    "train(poly_features[:n_train, :], poly_features[n_train:, :],\n",
    "      labels[:n_train], labels[n_train:], num_epochs=1500)"
   ]
  },
  {
   "cell_type": "code",
   "execution_count": null,
   "id": "2d629e9c",
   "metadata": {},
   "outputs": [],
   "source": []
  },
  {
   "cell_type": "code",
   "execution_count": null,
   "id": "6e4f6ffd",
   "metadata": {},
   "outputs": [],
   "source": []
  }
 ],
 "metadata": {
  "kernelspec": {
   "display_name": "Python 3 (ipykernel)",
   "language": "python",
   "name": "python3"
  },
  "language_info": {
   "codemirror_mode": {
    "name": "ipython",
    "version": 3
   },
   "file_extension": ".py",
   "mimetype": "text/x-python",
   "name": "python",
   "nbconvert_exporter": "python",
   "pygments_lexer": "ipython3",
   "version": "3.9.7"
  },
  "toc": {
   "base_numbering": 1,
   "nav_menu": {},
   "number_sections": true,
   "sideBar": true,
   "skip_h1_title": false,
   "title_cell": "Table of Contents",
   "title_sidebar": "Contents",
   "toc_cell": false,
   "toc_position": {},
   "toc_section_display": true,
   "toc_window_display": false
  }
 },
 "nbformat": 4,
 "nbformat_minor": 5
}
