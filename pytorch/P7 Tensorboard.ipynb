{
 "cells": [
  {
   "cell_type": "code",
   "execution_count": 3,
   "id": "8db6ace2",
   "metadata": {},
   "outputs": [],
   "source": [
    "from torch.utils.tensorboard import SummaryWriter\n",
    "#直接向log_dir写入一个事件文件，文件可以被tensorboard解析\n",
    "writer = SummaryWriter(\"logs\")\n",
    "for i in range(100):\n",
    "    writer.add_scalar(\"y=x\", i, i)\n",
    "'''打开logs文件夹中的事件文件\n",
    "在控制台中输入 tensorboard --logdir=logs --port=6000\n",
    "可以换成绝对路径\n",
    "不知道为什么不能显示'''"
   ]
  },
  {
   "cell_type": "markdown",
   "id": "8fc348ed",
   "metadata": {},
   "source": [
    "tensorboard --logdir=D:\\中财云盘\\用户文档\\韩丰羽\\深度学习\\代码\\PyTorch深度学习快速入门教程（绝对通俗易懂！）【小土堆】\\logs --port=3000"
   ]
  },
  {
   "cell_type": "code",
   "execution_count": 8,
   "id": "5c18cd16",
   "metadata": {},
   "outputs": [
    {
     "name": "stdout",
     "output_type": "stream",
     "text": [
      "<class 'PIL.JpegImagePlugin.JpegImageFile'>\n"
     ]
    }
   ],
   "source": [
    "#使用.add_image()\n",
    "import numpy as np\n",
    "from PIL import Image\n",
    "\n",
    "image_path = \"D:/中财云盘/用户文档/韩丰羽/深度学习/代码/PyTorch深度学习快速入门教程（绝对通俗易懂！）【小土堆】/hymenoptera_data/train/ants/0013035.jpg\"\n",
    "img_PIL = Image.open(image_path)\n",
    "print(type(img_PIL))\n",
    "#PIL打开的类型是无法被.add_image()表示出来"
   ]
  },
  {
   "cell_type": "code",
   "execution_count": 9,
   "id": "bc258ad7",
   "metadata": {},
   "outputs": [
    {
     "name": "stdout",
     "output_type": "stream",
     "text": [
      "<class 'numpy.ndarray'>\n"
     ]
    },
    {
     "data": {
      "text/plain": [
       "(512, 768, 3)"
      ]
     },
     "execution_count": 9,
     "metadata": {},
     "output_type": "execute_result"
    }
   ],
   "source": [
    "img = np.array(img_PIL) #图片先转换为numpy数组才能够被画出\n",
    "print(type(img))\n",
    "img.shape#当通道数3在高维度时，输出会报错，需要添加一个参数dataforms"
   ]
  },
  {
   "cell_type": "code",
   "execution_count": null,
   "id": "27645741",
   "metadata": {},
   "outputs": [],
   "source": [
    "writer.add_image(\"test\", img, dataformats='HWC')\n",
    "#HWC代表数据是(H,W,3)这样的维度，一般情况下为(3,H,W)\n",
    "writer.close()"
   ]
  }
 ],
 "metadata": {
  "kernelspec": {
   "display_name": "Python 3 (ipykernel)",
   "language": "python",
   "name": "python3"
  },
  "language_info": {
   "codemirror_mode": {
    "name": "ipython",
    "version": 3
   },
   "file_extension": ".py",
   "mimetype": "text/x-python",
   "name": "python",
   "nbconvert_exporter": "python",
   "pygments_lexer": "ipython3",
   "version": "3.9.9"
  }
 },
 "nbformat": 4,
 "nbformat_minor": 5
}
