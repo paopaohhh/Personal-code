{
 "cells": [
  {
   "cell_type": "code",
   "execution_count": 1,
   "id": "ea5f24e4",
   "metadata": {},
   "outputs": [],
   "source": [
    "import torch\n",
    "from PIL import Image\n",
    "from torch.utils.data import Dataset"
   ]
  },
  {
   "cell_type": "code",
   "execution_count": 5,
   "id": "ec6b269e",
   "metadata": {},
   "outputs": [
    {
     "data": {
      "text/plain": [
       "(768, 512)"
      ]
     },
     "execution_count": 5,
     "metadata": {},
     "output_type": "execute_result"
    }
   ],
   "source": [
    "image_path = \"D:/中财云盘/用户文档/韩丰羽/深度学习/代码/PyTorch深度学习快速入门教程（绝对通俗易懂！）【小土堆】/hymenoptera_data/train/ants/0013035.jpg\"\n",
    "#定义图片路径\n",
    "img = Image.open(image_path)\n",
    "#打开图片路径\n",
    "img.show()\n",
    "#展示图片\n",
    "img.size"
   ]
  },
  {
   "cell_type": "code",
   "execution_count": 3,
   "id": "c77e40cc",
   "metadata": {},
   "outputs": [
    {
     "data": {
      "text/plain": [
       "'0013035.jpg'"
      ]
     },
     "execution_count": 3,
     "metadata": {},
     "output_type": "execute_result"
    }
   ],
   "source": [
    "import os\n",
    "dir_path = \"D:/中财云盘/用户文档/韩丰羽/深度学习/代码/PyTorch深度学习快速入门教程（绝对通俗易懂！）【小土堆】/hymenoptera_data/train/ants/\"\n",
    "#定义文件路径\n",
    "img_dir_list = os.listdir(dir_path)\n",
    "#列出文件夹中的文件名，这是一个列表\n",
    "img_dir_list[0]\n",
    "#输出第一个图片的名称"
   ]
  },
  {
   "cell_type": "code",
   "execution_count": 4,
   "id": "5a77a19f",
   "metadata": {},
   "outputs": [],
   "source": [
    "class MyData(Dataset):\n",
    "    #self是一个全局变量\n",
    "    def __init__(self, root_dir, label_dir):\n",
    "        self.root_dir = root_dir\n",
    "        self.label_dir = label_dir\n",
    "        self.path = os.path.join(self.root_dir, self.label_dir)\n",
    "        self.img_list = os.listdir(self.path)\n",
    "    def __getitem__(self, idx):\n",
    "        img_name = self.img_list[idx]#获取图片名称\n",
    "        img_item_path = os.path.join(self.root_dir\n",
    "                                     , self.label_dir, img_name)\n",
    "        #获取图片路径\n",
    "        img = Image.open(img_item_path)#获取图片\n",
    "        label = self.label_dir\n",
    "        return img, label\n",
    "    def __len__(self):\n",
    "        return len(self.img_list)"
   ]
  },
  {
   "cell_type": "code",
   "execution_count": 15,
   "id": "0f29a53b",
   "metadata": {},
   "outputs": [
    {
     "data": {
      "text/plain": [
       "(<PIL.JpegImagePlugin.JpegImageFile image mode=RGB size=768x512 at 0x13DB2AD6970>,\n",
       " 'ants')"
      ]
     },
     "execution_count": 15,
     "metadata": {},
     "output_type": "execute_result"
    }
   ],
   "source": [
    "root_dir = \"../PyTorch深度学习快速入门教程（绝对通俗易懂！）【小土堆】/hymenoptera_data/train/\"\n",
    "#定义数据集的路径\n",
    "ants_label_dir = \"ants\"\n",
    "bees_label_dir = \"bees\"\n",
    "path = os.path.join(root_dir, ants_label_dir)#合并两个路径\n",
    "ants_dataset = MyData(root_dir, ants_label_dir)#实现这个类\n",
    "bees_dataset = MyData(root_dir, bees_label_dir)\n",
    "img, label = ants_dataset[0]\n",
    "img, label"
   ]
  },
  {
   "cell_type": "code",
   "execution_count": 14,
   "id": "090229af",
   "metadata": {},
   "outputs": [],
   "source": [
    "img.show()"
   ]
  },
  {
   "cell_type": "code",
   "execution_count": 23,
   "id": "de76300c",
   "metadata": {},
   "outputs": [
    {
     "data": {
      "text/plain": [
       "(<PIL.JpegImagePlugin.JpegImageFile image mode=RGB size=500x333 at 0x28513BFAF70>,\n",
       " 'bees')"
      ]
     },
     "execution_count": 23,
     "metadata": {},
     "output_type": "execute_result"
    }
   ],
   "source": [
    "img, label = bees_dataset[1]\n",
    "img, label"
   ]
  },
  {
   "cell_type": "code",
   "execution_count": 24,
   "id": "8fbf0453",
   "metadata": {},
   "outputs": [],
   "source": [
    "img.show()"
   ]
  },
  {
   "cell_type": "code",
   "execution_count": 25,
   "id": "799e7b63",
   "metadata": {},
   "outputs": [
    {
     "data": {
      "text/plain": [
       "245"
      ]
     },
     "execution_count": 25,
     "metadata": {},
     "output_type": "execute_result"
    }
   ],
   "source": [
    "train_dataset = ants_dataset + bees_dataset#合并两个数据集\n",
    "len(train_dataset)"
   ]
  },
  {
   "cell_type": "code",
   "execution_count": 26,
   "id": "182453a6",
   "metadata": {},
   "outputs": [
    {
     "data": {
      "text/plain": [
       "(124, 121)"
      ]
     },
     "execution_count": 26,
     "metadata": {},
     "output_type": "execute_result"
    }
   ],
   "source": [
    "len(ants_dataset), len(bees_dataset)"
   ]
  },
  {
   "cell_type": "code",
   "execution_count": null,
   "id": "9b455596",
   "metadata": {},
   "outputs": [],
   "source": []
  }
 ],
 "metadata": {
  "kernelspec": {
   "display_name": "Python 3 (ipykernel)",
   "language": "python",
   "name": "python3"
  },
  "language_info": {
   "codemirror_mode": {
    "name": "ipython",
    "version": 3
   },
   "file_extension": ".py",
   "mimetype": "text/x-python",
   "name": "python",
   "nbconvert_exporter": "python",
   "pygments_lexer": "ipython3",
   "version": "3.9.9"
  },
  "toc": {
   "base_numbering": 1,
   "nav_menu": {},
   "number_sections": true,
   "sideBar": true,
   "skip_h1_title": false,
   "title_cell": "Table of Contents",
   "title_sidebar": "Contents",
   "toc_cell": false,
   "toc_position": {},
   "toc_section_display": true,
   "toc_window_display": false
  }
 },
 "nbformat": 4,
 "nbformat_minor": 5
}
