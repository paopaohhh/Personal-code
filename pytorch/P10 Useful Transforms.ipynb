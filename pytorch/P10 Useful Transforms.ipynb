{
 "cells": [
  {
   "cell_type": "code",
   "execution_count": 1,
   "id": "e9fee298",
   "metadata": {},
   "outputs": [
    {
     "data": {
      "text/plain": [
       "PIL.JpegImagePlugin.JpegImageFile"
      ]
     },
     "execution_count": 1,
     "metadata": {},
     "output_type": "execute_result"
    }
   ],
   "source": [
    "from PIL import Image\n",
    "from torchvision import transforms\n",
    "from torch.utils.tensorboard import SummaryWriter\n",
    "\n",
    "img = Image.open(\"D:/中财云盘/用户文档/韩丰羽/深度学习/代码/PyTorch深度学习快速入门教程（绝对通俗易懂！）【小土堆】/hymenoptera_data/train/ants/0013035.jpg\")\n",
    "type(img)"
   ]
  },
  {
   "cell_type": "markdown",
   "id": "bc335bec",
   "metadata": {},
   "source": [
    "# __call__的用法"
   ]
  },
  {
   "cell_type": "code",
   "execution_count": 2,
   "id": "9b2ec887",
   "metadata": {},
   "outputs": [
    {
     "name": "stdout",
     "output_type": "stream",
     "text": [
      "__call__Hellozhangsan\n",
      "hellolisi\n"
     ]
    }
   ],
   "source": [
    "class Person:\n",
    "    def __call__(self, name):\n",
    "        print(\"__call__\"+\"Hello\"+name)\n",
    "    \n",
    "    def hello(self, name):\n",
    "        print(\"hello\"+name)\n",
    "\n",
    "person = Person()\n",
    "person(\"zhangsan\")\n",
    "#__call__方法会被直接调用，其他方法需要用 .方法名 的形式调用\n",
    "person.hello(\"lisi\")"
   ]
  },
  {
   "cell_type": "markdown",
   "id": "79073078",
   "metadata": {},
   "source": [
    "# Totensor的用法"
   ]
  },
  {
   "cell_type": "code",
   "execution_count": 3,
   "id": "93ca3fd5",
   "metadata": {},
   "outputs": [
    {
     "data": {
      "text/plain": [
       "torch.Tensor"
      ]
     },
     "execution_count": 3,
     "metadata": {},
     "output_type": "execute_result"
    }
   ],
   "source": [
    "trans_totensor = transforms.ToTensor()\n",
    "img_tensor = trans_totensor(img)\n",
    "type(img_tensor)"
   ]
  },
  {
   "cell_type": "code",
   "execution_count": 4,
   "id": "dbef49f0",
   "metadata": {},
   "outputs": [],
   "source": [
    "writer = SummaryWriter(\"logs\")\n",
    "writer.add_image(\"Totensor\", img_tensor)"
   ]
  },
  {
   "cell_type": "markdown",
   "id": "6ee79ac3",
   "metadata": {},
   "source": [
    "# Normalize的用法"
   ]
  },
  {
   "cell_type": "code",
   "execution_count": 6,
   "id": "385bee2a",
   "metadata": {},
   "outputs": [
    {
     "name": "stdout",
     "output_type": "stream",
     "text": [
      "tensor(0.3137)\n",
      "tensor(-0.3725)\n"
     ]
    }
   ],
   "source": [
    "print(img_tensor[0][0][0])\n",
    "trans_norm = transforms.Normalize([0.5,0.5,0.5],[0.5,0.5,0.5])\n",
    "#Normalize中给出均值和方差，图片为三通道\n",
    "img_norm = trans_norm(img_tensor)\n",
    "print(img_norm[0][0][0])"
   ]
  },
  {
   "cell_type": "code",
   "execution_count": 7,
   "id": "94e8a754",
   "metadata": {},
   "outputs": [],
   "source": [
    "writer.add_image(\"Normalize\", img_norm)"
   ]
  },
  {
   "cell_type": "markdown",
   "id": "e02a92a9",
   "metadata": {},
   "source": [
    "# Resize的使用"
   ]
  },
  {
   "cell_type": "code",
   "execution_count": 8,
   "id": "287f2cbf",
   "metadata": {},
   "outputs": [
    {
     "name": "stdout",
     "output_type": "stream",
     "text": [
      "(768, 512)\n",
      "tensor([[[0.3137, 0.3137, 0.3176,  ..., 0.3137, 0.3137, 0.3020],\n",
      "         [0.3176, 0.3176, 0.3176,  ..., 0.3098, 0.3137, 0.3020],\n",
      "         [0.3216, 0.3216, 0.3176,  ..., 0.3059, 0.3137, 0.3059],\n",
      "         ...,\n",
      "         [0.3412, 0.3373, 0.3373,  ..., 0.0196, 0.2196, 0.3608],\n",
      "         [0.3412, 0.3373, 0.3373,  ..., 0.3490, 0.3373, 0.3373],\n",
      "         [0.3412, 0.3373, 0.3373,  ..., 0.3529, 0.3137, 0.3216]],\n",
      "\n",
      "        [[0.5922, 0.5922, 0.5961,  ..., 0.5922, 0.5922, 0.5804],\n",
      "         [0.5961, 0.5961, 0.5961,  ..., 0.5882, 0.5922, 0.5804],\n",
      "         [0.6000, 0.6000, 0.5961,  ..., 0.5843, 0.5922, 0.5843],\n",
      "         ...,\n",
      "         [0.6275, 0.6235, 0.6235,  ..., 0.1020, 0.4157, 0.6157],\n",
      "         [0.6275, 0.6235, 0.6235,  ..., 0.5373, 0.5882, 0.6078],\n",
      "         [0.6275, 0.6235, 0.6235,  ..., 0.6392, 0.6275, 0.6275]],\n",
      "\n",
      "        [[0.9137, 0.9137, 0.9176,  ..., 0.9137, 0.9137, 0.9020],\n",
      "         [0.9176, 0.9176, 0.9176,  ..., 0.9098, 0.9137, 0.9020],\n",
      "         [0.9216, 0.9216, 0.9176,  ..., 0.9059, 0.9137, 0.9059],\n",
      "         ...,\n",
      "         [0.9294, 0.9255, 0.9255,  ..., 0.1961, 0.6353, 0.9059],\n",
      "         [0.9294, 0.9255, 0.9255,  ..., 0.7922, 0.9098, 0.9451],\n",
      "         [0.9294, 0.9255, 0.9255,  ..., 0.9412, 0.9569, 0.9373]]])\n"
     ]
    }
   ],
   "source": [
    "print(img.size)\n",
    "trans_size = transforms.Resize((512,512))\n",
    "#img PIL -> resize -> img_resize PIL\n",
    "img_resize = trans_size(img)\n",
    "#img_resieze PIL -> Totensor -> img tensor\n",
    "img_resize = trans_totensor(img_resize)\n",
    "print(img_resize)\n",
    "writer.add_image(\"Resize\",img_resize)"
   ]
  },
  {
   "cell_type": "markdown",
   "id": "d6f62cdc",
   "metadata": {},
   "source": [
    "# Compose Resize 2"
   ]
  },
  {
   "cell_type": "code",
   "execution_count": 9,
   "id": "5f1a9acb",
   "metadata": {},
   "outputs": [],
   "source": [
    "trans_size_2 = transforms.Resize(512)\n",
    "#transforms.Compose的参数需要是一个列表，数据类型是transform的类\n",
    "#PIL -> Resize -> tensor\n",
    "trans_compose = transforms.Compose([trans_size_2, trans_totensor])\n",
    "img_resize_2 = trans_compose(img)\n",
    "writer.add_image(\"Compose\", img_resize_2)"
   ]
  },
  {
   "cell_type": "markdown",
   "id": "53509433",
   "metadata": {},
   "source": [
    "# RandomCrop随机裁剪"
   ]
  },
  {
   "cell_type": "code",
   "execution_count": 10,
   "id": "9a040c48",
   "metadata": {},
   "outputs": [],
   "source": [
    "trans_randomcrop = transforms.RandomCrop(512)\n",
    "trans_compose_2 = transforms.Compose([trans_randomcrop, trans_totensor])\n",
    "for i in range(10):\n",
    "    img_crop = trans_compose_2(img)\n",
    "    writer.add_image(\"RandomCrop\", img_crop, i)"
   ]
  },
  {
   "cell_type": "code",
   "execution_count": 11,
   "id": "dffe9685",
   "metadata": {},
   "outputs": [],
   "source": [
    "writer.close()"
   ]
  }
 ],
 "metadata": {
  "kernelspec": {
   "display_name": "Python 3 (ipykernel)",
   "language": "python",
   "name": "python3"
  },
  "language_info": {
   "codemirror_mode": {
    "name": "ipython",
    "version": 3
   },
   "file_extension": ".py",
   "mimetype": "text/x-python",
   "name": "python",
   "nbconvert_exporter": "python",
   "pygments_lexer": "ipython3",
   "version": "3.9.9"
  },
  "toc": {
   "base_numbering": 1,
   "nav_menu": {},
   "number_sections": true,
   "sideBar": true,
   "skip_h1_title": false,
   "title_cell": "Table of Contents",
   "title_sidebar": "Contents",
   "toc_cell": false,
   "toc_position": {},
   "toc_section_display": true,
   "toc_window_display": false
  }
 },
 "nbformat": 4,
 "nbformat_minor": 5
}
