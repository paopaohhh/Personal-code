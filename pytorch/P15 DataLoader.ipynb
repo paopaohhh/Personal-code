{
 "cells": [
  {
   "cell_type": "code",
   "execution_count": null,
   "id": "7a6a340c",
   "metadata": {},
   "outputs": [],
   "source": [
    "import torchvision\n",
    "from torch.utils.tensorboard import SummaryWriter\n",
    "from torch.utils.data import DataLoader\n",
    "from PIL import Image"
   ]
  },
  {
   "cell_type": "code",
   "execution_count": null,
   "id": "d12cc79c",
   "metadata": {},
   "outputs": [],
   "source": [
    "#用DataLoader取出数据集\n",
    "test_data = torchvision.datasets.CIFAR10(\"./dataset\", train=False, transform=torchvision.transforms.ToTensor(),\n",
    "                                         download=False)\n",
    "test_loader = DataLoader(dataset=test_data, batch_size=64, shuffle=False, num_workers=0, drop_last=False)"
   ]
  },
  {
   "cell_type": "code",
   "execution_count": null,
   "id": "e223fc19",
   "metadata": {},
   "outputs": [],
   "source": [
    "#输出CIFAR10中第一张图片的信息\n",
    "img, target = test_data[0]\n",
    "print(img.shape)\n",
    "print(target)"
   ]
  },
  {
   "cell_type": "code",
   "execution_count": null,
   "id": "caed84a7",
   "metadata": {},
   "outputs": [],
   "source": [
    "#表示DataLoader取出的数据集中的每一个样本\n",
    "writer = SummaryWriter(\"DataLoader\")\n",
    "\n",
    "for epoch in range(2):\n",
    "    step = 0\n",
    "    for data in test_loader:\n",
    "        img, target = data\n",
    "        # print(img.shape)\n",
    "        # print(target)\n",
    "        writer.add_images(f\"Epoch:{epoch}\", img_tensor=img, global_step=step)\n",
    "        step= step+1\n",
    "writer.close()"
   ]
  }
 ],
 "metadata": {
  "kernelspec": {
   "display_name": "Python 3 (ipykernel)",
   "language": "python",
   "name": "python3"
  },
  "language_info": {
   "codemirror_mode": {
    "name": "ipython",
    "version": 3
   },
   "file_extension": ".py",
   "mimetype": "text/x-python",
   "name": "python",
   "nbconvert_exporter": "python",
   "pygments_lexer": "ipython3",
   "version": "3.9.9"
  }
 },
 "nbformat": 4,
 "nbformat_minor": 5
}
